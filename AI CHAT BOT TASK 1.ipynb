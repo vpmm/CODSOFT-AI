{
 "cells": [
  {
   "cell_type": "code",
   "execution_count": null,
   "id": "813fc106",
   "metadata": {},
   "outputs": [
    {
     "name": "stderr",
     "output_type": "stream",
     "text": [
      "2023-09-21 12:58:11.073296: I tensorflow/core/platform/cpu_feature_guard.cc:182] This TensorFlow binary is optimized to use available CPU instructions in performance-critical operations.\n",
      "To enable the following instructions: AVX2 FMA, in other operations, rebuild TensorFlow with the appropriate compiler flags.\n",
      "2023-09-21 12:58:11.680100: W tensorflow/compiler/tf2tensorrt/utils/py_utils.cc:38] TF-TRT Warning: Could not find TensorRT\n"
     ]
    },
    {
     "name": "stdout",
     "output_type": "stream",
     "text": [
      "You: hi\n",
      "Chatbot: Hello! How can I assist you today?\n",
      "You: how are you\n",
      "Chatbot: I'm just a computer program, but thanks for asking!\n"
     ]
    }
   ],
   "source": [
    "import spacy\n",
    "\n",
    "# Load the English language model (you can use other models as well)\n",
    "nlp = spacy.load(\"en_core_web_sm\")\n",
    "\n",
    "# Define a function to handle user inputs and generate responses\n",
    "def ai_chatbot(user_input):\n",
    "    # Process the user input using spaCy\n",
    "    doc = nlp(user_input)\n",
    "\n",
    "    # Define some predefined responses\n",
    "    responses = {\n",
    "        \"greeting\": \"Hello! How can I assist you today?\",\n",
    "        \"how_are_you\": \"I'm just a computer program, but thanks for asking!\",\n",
    "        \"goodbye\": \"Goodbye! Have a great day!\",\n",
    "        \"default\": \"I'm not sure how to respond to that. Can you please rephrase your question?\"\n",
    "    }\n",
    "\n",
    "    # Check if the user input contains a greeting\n",
    "    if \"hello\" in user_input.lower() or \"hi\" in user_input.lower():\n",
    "        return responses[\"greeting\"]\n",
    "\n",
    "    # Check if the user input contains a question about the bot's status\n",
    "    elif \"how are you\" in user_input.lower():\n",
    "        return responses[\"how_are_you\"]\n",
    "\n",
    "    # Check if the user wants to exit\n",
    "    elif \"bye\" in user_input.lower():\n",
    "        return responses[\"goodbye\"]\n",
    "\n",
    "    # If none of the predefined conditions are met, provide a default response\n",
    "    else:\n",
    "        return responses[\"default\"]\n",
    "\n",
    "# Main loop for interacting with the chatbot\n",
    "while True:\n",
    "    user_input = input(\"You: \")\n",
    "    \n",
    "    # Check if the user wants to exit\n",
    "    if user_input.lower() == \"exit\":\n",
    "        print(\"Chatbot: Goodbye!\")\n",
    "        break\n",
    "    \n",
    "    # Get the chatbot's response based on user input\n",
    "    chatbot_response = ai_chatbot(user_input)\n",
    "    print(\"Chatbot:\", chatbot_response)\n"
   ]
  },
  {
   "cell_type": "code",
   "execution_count": null,
   "id": "03ff41f3",
   "metadata": {},
   "outputs": [],
   "source": []
  }
 ],
 "metadata": {
  "kernelspec": {
   "display_name": "Python 3 (ipykernel)",
   "language": "python",
   "name": "python3"
  },
  "language_info": {
   "codemirror_mode": {
    "name": "ipython",
    "version": 3
   },
   "file_extension": ".py",
   "mimetype": "text/x-python",
   "name": "python",
   "nbconvert_exporter": "python",
   "pygments_lexer": "ipython3",
   "version": "3.8.10"
  }
 },
 "nbformat": 4,
 "nbformat_minor": 5
}
